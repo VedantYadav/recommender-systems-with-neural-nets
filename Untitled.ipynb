{
 "cells": [
  {
   "cell_type": "code",
   "execution_count": 2,
   "metadata": {
    "collapsed": true
   },
   "outputs": [],
   "source": [
    "import numpy as np\n",
    "from numpy import array\n",
    "# import matplotlib as plt\n",
    "from random import sample\n",
    "from numpy import zeros\n",
    "from math import sqrt\n",
    "import _pickle as cPickle\n",
    "import h5py"
   ]
  },
  {
   "cell_type": "code",
   "execution_count": 3,
   "metadata": {
    "collapsed": true
   },
   "outputs": [],
   "source": [
    "movies = 976\n",
    "users = 6078\n",
    "reviews = 5\n",
    "active = 51"
   ]
  },
  {
   "cell_type": "markdown",
   "metadata": {},
   "source": [
    "# Data Loading"
   ]
  },
  {
   "cell_type": "code",
   "execution_count": 52,
   "metadata": {
    "collapsed": true
   },
   "outputs": [],
   "source": [
    "org_dataset = matr((reviews,users+1,movies+1))"
   ]
  },
  {
   "cell_type": "code",
   "execution_count": 53,
   "metadata": {},
   "outputs": [
    {
     "data": {
      "text/plain": [
       "(5, 6079, 977)"
      ]
     },
     "execution_count": 53,
     "metadata": {},
     "output_type": "execute_result"
    }
   ],
   "source": [
    "org_dataset.shape"
   ]
  },
  {
   "cell_type": "code",
   "execution_count": 54,
   "metadata": {
    "collapsed": true
   },
   "outputs": [],
   "source": [
    "with open(\"yahoo_data.data\") as infile:\n",
    "    for line in infile:\n",
    "        temp = line.split()\n",
    "        # rating,user,movie\n",
    "        org_dataset[:,int(temp[0]),int(temp[-1])] = [int(temp[1]),int(temp[2]),int(temp[3]),int(temp[4]),int(temp[5])]"
   ]
  },
  {
   "cell_type": "code",
   "execution_count": 328,
   "metadata": {
    "collapsed": true
   },
   "outputs": [],
   "source": [
    "def matr(shp):\n",
    "    temp = zeros(shp)\n",
    "    temp[:,0,:] = range(shp[2])\n",
    "    temp[:,:,0] = range(shp[1])\n",
    "    return temp\n",
    "\n",
    "def matr1(shp):\n",
    "    temp = zeros(shp)\n",
    "    temp[0,:] = range(shp[1])\n",
    "    temp[:,0] = range(shp[0])\n",
    "    return temp"
   ]
  },
  {
   "cell_type": "code",
   "execution_count": 156,
   "metadata": {
    "collapsed": true
   },
   "outputs": [],
   "source": [
    "effect_list = [0]\n",
    "idx = 1\n",
    "for row in org_dataset[0,1:]:\n",
    "    if row.nonzero()[0].shape[0] > 20:\n",
    "        effect_list.append(idx)\n",
    "    idx+=1;"
   ]
  },
  {
   "cell_type": "code",
   "execution_count": 157,
   "metadata": {
    "collapsed": true
   },
   "outputs": [],
   "source": [
    "eff_list = array(effect_list)\n",
    "dataset = org_dataset[:,eff_list]"
   ]
  },
  {
   "cell_type": "code",
   "execution_count": 158,
   "metadata": {},
   "outputs": [
    {
     "data": {
      "text/plain": [
       "(5, 485, 977)"
      ]
     },
     "execution_count": 158,
     "metadata": {},
     "output_type": "execute_result"
    }
   ],
   "source": [
    "dataset.shape"
   ]
  },
  {
   "cell_type": "markdown",
   "metadata": {},
   "source": [
    "# Separate Data in Active and Passive"
   ]
  },
  {
   "cell_type": "code",
   "execution_count": 179,
   "metadata": {
    "collapsed": true
   },
   "outputs": [],
   "source": [
    "x = list(range(1,485))\n",
    "np.random.shuffle(x)\n",
    "act_rand,pass_rand = array([0] + x[:active]),array([0] + x[active:])\n",
    "active_user,passive_user = dataset[:,act_rand],dataset[:,pass_rand]"
   ]
  },
  {
   "cell_type": "code",
   "execution_count": 180,
   "metadata": {},
   "outputs": [
    {
     "data": {
      "text/plain": [
       "(5, 52, 977)"
      ]
     },
     "execution_count": 180,
     "metadata": {},
     "output_type": "execute_result"
    }
   ],
   "source": [
    "active_user.shape"
   ]
  },
  {
   "cell_type": "code",
   "execution_count": 181,
   "metadata": {},
   "outputs": [
    {
     "data": {
      "text/plain": [
       "(5, 434, 977)"
      ]
     },
     "execution_count": 181,
     "metadata": {},
     "output_type": "execute_result"
    }
   ],
   "source": [
    "passive_user.shape"
   ]
  },
  {
   "cell_type": "markdown",
   "metadata": {},
   "source": [
    "# Dividing Active in Train and test"
   ]
  },
  {
   "cell_type": "code",
   "execution_count": 230,
   "metadata": {
    "collapsed": true
   },
   "outputs": [],
   "source": [
    "ratio_train = (70 * movies)/100\n",
    "ratio_test = movies-ratio_train"
   ]
  },
  {
   "cell_type": "code",
   "execution_count": 231,
   "metadata": {
    "collapsed": true
   },
   "outputs": [],
   "source": [
    "y = list(range(1,977))\n",
    "np.random.shuffle(y)\n",
    "train_rand,test_rand = array([0] + y[:int(ratio_train)]),array([0] + y[int(ratio_train):])\n",
    "train,test = active_user[:,:,train_rand],active_user[:,:,test_rand]"
   ]
  },
  {
   "cell_type": "code",
   "execution_count": 232,
   "metadata": {},
   "outputs": [
    {
     "data": {
      "text/plain": [
       "(5, 52, 684)"
      ]
     },
     "execution_count": 232,
     "metadata": {},
     "output_type": "execute_result"
    }
   ],
   "source": [
    "train.shape"
   ]
  },
  {
   "cell_type": "code",
   "execution_count": 233,
   "metadata": {},
   "outputs": [
    {
     "data": {
      "text/plain": [
       "(5, 52, 294)"
      ]
     },
     "execution_count": 233,
     "metadata": {},
     "output_type": "execute_result"
    }
   ],
   "source": [
    "test.shape"
   ]
  },
  {
   "cell_type": "markdown",
   "metadata": {},
   "source": [
    "# Save and Load"
   ]
  },
  {
   "cell_type": "code",
   "execution_count": null,
   "metadata": {
    "collapsed": true
   },
   "outputs": [],
   "source": [
    "cPickle.dump( org_dataset, open( \"yahoo_multi_criteria.pkl\", \"wb\" ) )"
   ]
  },
  {
   "cell_type": "code",
   "execution_count": null,
   "metadata": {
    "collapsed": true
   },
   "outputs": [],
   "source": [
    "org_dataset = cPickle.load( open( \"yahoo_multi_criteria.pkl\", \"rb\" ) )"
   ]
  },
  {
   "cell_type": "code",
   "execution_count": 235,
   "metadata": {
    "collapsed": true
   },
   "outputs": [],
   "source": [
    "# cPickle.dump( dataset, open( \"dataset.pkl\", \"wb\" ) )\n",
    "# cPickle.dump( active_user, open( \"active.pkl\", \"wb\" ) )\n",
    "# cPickle.dump( passive_user, open( \"passive.pkl\", \"wb\" ) )\n",
    "cPickle.dump( train, open( \"train.pkl\", \"wb\" ) )\n",
    "cPickle.dump( test, open( \"test.pkl\", \"wb\" ) )"
   ]
  },
  {
   "cell_type": "code",
   "execution_count": 337,
   "metadata": {
    "collapsed": true
   },
   "outputs": [],
   "source": [
    "cPickle.dump( users_matrix, open( \"usr_matrix.pkl\", \"wb\" ) )"
   ]
  },
  {
   "cell_type": "code",
   "execution_count": 5,
   "metadata": {},
   "outputs": [
    {
     "name": "stdout",
     "output_type": "stream",
     "text": [
      "D:\\old_laptop_data\\linux_desktop\\recom\\proj2\n"
     ]
    }
   ],
   "source": [
    "cd ../proj2/"
   ]
  },
  {
   "cell_type": "code",
   "execution_count": 6,
   "metadata": {},
   "outputs": [],
   "source": [
    "train = cPickle.load( open( \"train.pkl\", \"rb\" ) )\n",
    "test = cPickle.load( open( \"test.pkl\", \"rb\" ) )\n",
    "passive_user = cPickle.load( open( \"passive.pkl\", \"rb\" ) )\n",
    "users_matrix = cPickle.load( open( \"usr_matrix.pkl\", \"rb\" ) )\n",
    "# active_user = cPickle.load( open( \"active.pkl\", \"rb\" ) )\n",
    "# passive_user = cPickle.load( open( \"passive.pkl\", \"rb\" ) )"
   ]
  },
  {
   "cell_type": "markdown",
   "metadata": {},
   "source": [
    "# Similarity Finding"
   ]
  },
  {
   "cell_type": "code",
   "execution_count": 329,
   "metadata": {
    "collapsed": true
   },
   "outputs": [],
   "source": [
    "def simlarity(rows,passive_users,user_list,k):\n",
    "    users = zeros((reviews,k))\n",
    "    for row1,passive_user,user in zip(rows,passive_users,users):\n",
    "        k_neighbr,idx,arr = np.zeros(passive_user.shape[0]),0,user_list\n",
    "#         print(passive_user.shape)\n",
    "        for row2 in passive_user[:,1:]:\n",
    "            temp1,temp2,temp3 = 0,0,0\n",
    "            mu1 = np.sum([row1], axis=1)[0]/row1.nonzero()[0].shape[0]\n",
    "            mu2 = np.sum([row2], axis=1)[0]/row2.nonzero()[0].shape[0]\n",
    "            for i in range(len(row1)):\n",
    "                if row1[i] is not 0 and row2[i] is not 0:\n",
    "                    temp1 += ((row1[i] - mu1) * (row2[i] - mu2))\n",
    "                    temp2 += (row1[i] - mu1) * (row1[i] - mu1)\n",
    "                    temp3 += (row2[i] - mu2) * (row2[i] - mu2)\n",
    "            k_neighbr[idx] = temp1/(sqrt(temp2) * sqrt(temp3))\n",
    "            idx+=1\n",
    "        user[:] = arr[k_neighbr.argsort()][-k:][::-1]\n",
    "    return np.unique(users.flatten())\n",
    "\n",
    "def k_neighbor(data,passive_user,k=20):\n",
    "#     users = matr1((data.shape[1],(reviews*k)+1))\n",
    "    users = matr1((data.shape[1],60))\n",
    "    for idx in range(1,data[0,1:,0].shape[0]+1):\n",
    "        temp,users[idx,0] = simlarity(data[:,idx],passive_user[:,1:],passive_user[0,:,0],k),data[0,idx,0]\n",
    "        users[idx,1:temp.shape[0]+1] = temp\n",
    "        idx += 1\n",
    "    return users"
   ]
  },
  {
   "cell_type": "code",
   "execution_count": 330,
   "metadata": {
    "collapsed": true
   },
   "outputs": [],
   "source": [
    "users_matrix = k_neighbor(train,passive_user,40)"
   ]
  },
  {
   "cell_type": "markdown",
   "metadata": {},
   "source": [
    "# X_train,X_test | Y_train,Y_test"
   ]
  },
  {
   "cell_type": "code",
   "execution_count": 7,
   "metadata": {
    "collapsed": true
   },
   "outputs": [],
   "source": [
    "# passive_user[:,1:,1:] = (passive_user[:,1:,1:]/13.0*5.0)\n",
    "# train[:,1:,1:] = (train[:,1:,1:]/13.0*5.0)\n",
    "# test[:,1:,1:] = (test[:,1:,1:]/13.0*5.0)\n",
    "passive_user[:,1:,1:] = (passive_user[:,1:,1:])\n",
    "train[:,1:,1:] = (train[:,1:,1:])\n",
    "test[:,1:,1:] = (test[:,1:,1:])"
   ]
  },
  {
   "cell_type": "code",
   "execution_count": 8,
   "metadata": {
    "collapsed": true,
    "scrolled": false
   },
   "outputs": [],
   "source": [
    "id_idx = {}\n",
    "for idx,ele in enumerate(passive_user[0,:,0]):\n",
    "    id_idx[ele] = idx"
   ]
  },
  {
   "cell_type": "code",
   "execution_count": 9,
   "metadata": {
    "collapsed": true
   },
   "outputs": [],
   "source": [
    "def datashaping(users_matrix,train,passive_user,id_idx):\n",
    "    X_train,Y_train = [],[]\n",
    "    for row_idx in range(1,users_matrix[1:].shape[0]+1):\n",
    "        x_train,y_train = [],[]\n",
    "        print(\"progress :: user completed :- \", row_idx)\n",
    "        temp = train[0,row_idx,:].nonzero()[0]\n",
    "        movie_pool = train[0,0,temp]\n",
    "        for idx in range(1,movie_pool[1:].shape[0]+1):\n",
    "            for usr in users_matrix[row_idx,1:]:\n",
    "                if usr > 0 and passive_user[0,id_idx[usr],int(movie_pool[idx])] > 0 :\n",
    "                    x_train.append(passive_user[:,id_idx[usr],int(movie_pool[idx])])\n",
    "                    y_train.append(train[:,row_idx,int(temp[idx])])\n",
    "\n",
    "        X_train.append(array(x_train))\n",
    "        Y_train.append(array(y_train))\n",
    "        \n",
    "    return X_train,Y_train"
   ]
  },
  {
   "cell_type": "code",
   "execution_count": 10,
   "metadata": {
    "collapsed": true
   },
   "outputs": [],
   "source": [
    "# usr_1_x,usr_1_y = datashaping(users_matrix,train,passive_user,id_idx)\n",
    "# usr_1_x,usr_1_y = usr_1_x[0],np.reshape(usr_1_y[0][:,-1],(usr_1_y[0].shape[0],1))"
   ]
  },
  {
   "cell_type": "code",
   "execution_count": 10,
   "metadata": {
    "collapsed": true
   },
   "outputs": [
    {
     "name": "stdout",
     "output_type": "stream",
     "text": [
      "progress :: user completed :-  1\n",
      "progress :: user completed :-  2\n",
      "progress :: user completed :-  3\n",
      "progress :: user completed :-  4\n",
      "progress :: user completed :-  5\n",
      "progress :: user completed :-  6\n",
      "progress :: user completed :-  7\n",
      "progress :: user completed :-  8\n",
      "progress :: user completed :-  9\n",
      "progress :: user completed :-  10\n",
      "progress :: user completed :-  11\n",
      "progress :: user completed :-  12\n",
      "progress :: user completed :-  13\n",
      "progress :: user completed :-  14\n",
      "progress :: user completed :-  15\n",
      "progress :: user completed :-  16\n",
      "progress :: user completed :-  17\n",
      "progress :: user completed :-  18\n",
      "progress :: user completed :-  19\n",
      "progress :: user completed :-  20\n",
      "progress :: user completed :-  21\n",
      "progress :: user completed :-  22\n",
      "progress :: user completed :-  23\n",
      "progress :: user completed :-  24\n",
      "progress :: user completed :-  25\n",
      "progress :: user completed :-  26\n",
      "progress :: user completed :-  27\n",
      "progress :: user completed :-  28\n",
      "progress :: user completed :-  29\n",
      "progress :: user completed :-  30\n",
      "progress :: user completed :-  31\n",
      "progress :: user completed :-  32\n",
      "progress :: user completed :-  33\n",
      "progress :: user completed :-  34\n",
      "progress :: user completed :-  35\n",
      "progress :: user completed :-  36\n",
      "progress :: user completed :-  37\n",
      "progress :: user completed :-  38\n",
      "progress :: user completed :-  39\n",
      "progress :: user completed :-  40\n",
      "progress :: user completed :-  41\n",
      "progress :: user completed :-  42\n",
      "progress :: user completed :-  43\n",
      "progress :: user completed :-  44\n",
      "progress :: user completed :-  45\n",
      "progress :: user completed :-  46\n",
      "progress :: user completed :-  47\n",
      "progress :: user completed :-  48\n",
      "progress :: user completed :-  49\n",
      "progress :: user completed :-  50\n",
      "progress :: user completed :-  51\n"
     ]
    }
   ],
   "source": [
    "train_x,train_y = datashaping(users_matrix,train,passive_user,id_idx)\n",
    "# train_x,train_y = array(train_x),np.reshape(train_y[0][:,-1],(train_y[0].shape[0],1))"
   ]
  },
  {
   "cell_type": "code",
   "execution_count": 11,
   "metadata": {
    "collapsed": true
   },
   "outputs": [
    {
     "name": "stdout",
     "output_type": "stream",
     "text": [
      "progress :: user completed :-  1\n",
      "progress :: user completed :-  2\n",
      "progress :: user completed :-  3\n",
      "progress :: user completed :-  4\n",
      "progress :: user completed :-  5\n",
      "progress :: user completed :-  6\n",
      "progress :: user completed :-  7\n",
      "progress :: user completed :-  8\n",
      "progress :: user completed :-  9\n",
      "progress :: user completed :-  10\n",
      "progress :: user completed :-  11\n",
      "progress :: user completed :-  12\n",
      "progress :: user completed :-  13\n",
      "progress :: user completed :-  14\n",
      "progress :: user completed :-  15\n",
      "progress :: user completed :-  16\n",
      "progress :: user completed :-  17\n",
      "progress :: user completed :-  18\n",
      "progress :: user completed :-  19\n",
      "progress :: user completed :-  20\n",
      "progress :: user completed :-  21\n",
      "progress :: user completed :-  22\n",
      "progress :: user completed :-  23\n",
      "progress :: user completed :-  24\n",
      "progress :: user completed :-  25\n",
      "progress :: user completed :-  26\n",
      "progress :: user completed :-  27\n",
      "progress :: user completed :-  28\n",
      "progress :: user completed :-  29\n",
      "progress :: user completed :-  30\n",
      "progress :: user completed :-  31\n",
      "progress :: user completed :-  32\n",
      "progress :: user completed :-  33\n",
      "progress :: user completed :-  34\n",
      "progress :: user completed :-  35\n",
      "progress :: user completed :-  36\n",
      "progress :: user completed :-  37\n",
      "progress :: user completed :-  38\n",
      "progress :: user completed :-  39\n",
      "progress :: user completed :-  40\n",
      "progress :: user completed :-  41\n",
      "progress :: user completed :-  42\n",
      "progress :: user completed :-  43\n",
      "progress :: user completed :-  44\n",
      "progress :: user completed :-  45\n",
      "progress :: user completed :-  46\n",
      "progress :: user completed :-  47\n",
      "progress :: user completed :-  48\n",
      "progress :: user completed :-  49\n",
      "progress :: user completed :-  50\n",
      "progress :: user completed :-  51\n"
     ]
    }
   ],
   "source": [
    "# np.all(a != 0, axis=1)\n",
    "# a != 0\n",
    "test_x,test_y = datashaping(users_matrix,test,passive_user,id_idx)\n",
    "# test_x,test_y = test_x[0],np.reshape(test_y[0][:,-1],(test_y[0].shape[0],1))"
   ]
  },
  {
   "cell_type": "markdown",
   "metadata": {},
   "source": [
    "# Testing neural network for User "
   ]
  },
  {
   "cell_type": "code",
   "execution_count": 12,
   "metadata": {},
   "outputs": [
    {
     "name": "stderr",
     "output_type": "stream",
     "text": [
      "Using TensorFlow backend.\n"
     ]
    }
   ],
   "source": [
    "import keras\n",
    "from keras.models import Sequential\n",
    "from keras.layers import Dense, Activation"
   ]
  },
  {
   "cell_type": "code",
   "execution_count": 13,
   "metadata": {
    "collapsed": true
   },
   "outputs": [],
   "source": [
    "model = Sequential()\n",
    "model.add(Dense(3, activation='relu', input_dim=5))\n",
    "model.add(Dense(1,activation='linear'))\n",
    "model.compile(optimizer='rmsprop',loss='mse')"
   ]
  },
  {
   "cell_type": "code",
   "execution_count": 14,
   "metadata": {
    "collapsed": true
   },
   "outputs": [],
   "source": [
    "model.save_weights('./mod/model.h5')"
   ]
  },
  {
   "cell_type": "code",
   "execution_count": 50,
   "metadata": {
    "collapsed": true
   },
   "outputs": [
    {
     "name": "stdout",
     "output_type": "stream",
     "text": [
      "0\n",
      "1\n",
      "2\n",
      "3\n",
      "4\n",
      "5\n",
      "6\n",
      "7\n",
      "8\n",
      "9\n",
      "10\n",
      "11\n",
      "12\n",
      "13\n",
      "14\n",
      "15\n",
      "16\n",
      "17\n",
      "18\n",
      "19\n",
      "20\n",
      "21\n",
      "22\n",
      "23\n",
      "24\n",
      "25\n",
      "26\n",
      "27\n",
      "28\n",
      "29\n",
      "30\n",
      "31\n",
      "32\n",
      "33\n",
      "34\n",
      "35\n",
      "36\n",
      "37\n",
      "38\n",
      "39\n",
      "40\n",
      "41\n",
      "42\n",
      "43\n",
      "44\n",
      "45\n",
      "46\n",
      "47\n",
      "48\n",
      "49\n",
      "50\n"
     ]
    }
   ],
   "source": [
    "# len(train_x)\n",
    "for i in range(len(train_x)):\n",
    "    print(i)\n",
    "    Tr_X = train_x[i]\n",
    "    Tr_Y = np.reshape(train_y[i][:,-1],(train_y[i][:,-1].shape[0],1))\n",
    "    Tt_X = test_x[i]\n",
    "    Tt_Y = np.reshape(test_y[i][:,-1],(test_y[i][:,-1].shape[0],1))\n",
    "    model.load_weights('./mod/model.h5')\n",
    "    model.fit(Tr_X,Tr_Y,epochs=500, batch_size=70, verbose= 0 )\n",
    "    model.save_weights('./mod/model_' + str(1) + '.h5')"
   ]
  },
  {
   "cell_type": "code",
   "execution_count": 20,
   "metadata": {},
   "outputs": [
    {
     "name": "stdout",
     "output_type": "stream",
     "text": [
      "2.30782655794\n"
     ]
    }
   ],
   "source": [
    "err = 0\n",
    "for i in range(len(train_x)):\n",
    "    model.load_weights('./mod/model_' + str(1) + '.h5')\n",
    "    Tt_X = test_x[i]\n",
    "    Tt_Y = np.reshape(test_y[i][:,-1],(test_y[i][:,-1].shape[0],1))\n",
    "    predicted = model.predict(Tt_X, batch_size=Tt_X.shape[0])\n",
    "    err+=np.absolute((predicted - Tt_Y)).mean(axis=0)\n",
    "print((err/len(train_x))[0])"
   ]
  },
  {
   "cell_type": "code",
   "execution_count": 25,
   "metadata": {},
   "outputs": [
    {
     "ename": "InternalError",
     "evalue": "Blas GEMM launch failed : a.shape=(61, 5), b.shape=(5, 3), m=61, n=3, k=5\n\t [[Node: dense_1/MatMul = MatMul[T=DT_FLOAT, transpose_a=false, transpose_b=false, _device=\"/job:localhost/replica:0/task:0/gpu:0\"](_arg_dense_1_input_0_0/_17, dense_1/kernel/read)]]\n\t [[Node: dense_2/BiasAdd/_19 = _Recv[client_terminated=false, recv_device=\"/job:localhost/replica:0/task:0/cpu:0\", send_device=\"/job:localhost/replica:0/task:0/gpu:0\", send_device_incarnation=1, tensor_name=\"edge_23_dense_2/BiasAdd\", tensor_type=DT_FLOAT, _device=\"/job:localhost/replica:0/task:0/cpu:0\"]()]]\n\nCaused by op 'dense_1/MatMul', defined at:\n  File \"C:\\Users\\vedan\\AppData\\Local\\conda\\conda\\envs\\dlwin36\\lib\\runpy.py\", line 193, in _run_module_as_main\n    \"__main__\", mod_spec)\n  File \"C:\\Users\\vedan\\AppData\\Local\\conda\\conda\\envs\\dlwin36\\lib\\runpy.py\", line 85, in _run_code\n    exec(code, run_globals)\n  File \"C:\\Users\\vedan\\AppData\\Local\\conda\\conda\\envs\\dlwin36\\lib\\site-packages\\ipykernel_launcher.py\", line 16, in <module>\n    app.launch_new_instance()\n  File \"C:\\Users\\vedan\\AppData\\Local\\conda\\conda\\envs\\dlwin36\\lib\\site-packages\\traitlets\\config\\application.py\", line 658, in launch_instance\n    app.start()\n  File \"C:\\Users\\vedan\\AppData\\Local\\conda\\conda\\envs\\dlwin36\\lib\\site-packages\\ipykernel\\kernelapp.py\", line 477, in start\n    ioloop.IOLoop.instance().start()\n  File \"C:\\Users\\vedan\\AppData\\Local\\conda\\conda\\envs\\dlwin36\\lib\\site-packages\\zmq\\eventloop\\ioloop.py\", line 177, in start\n    super(ZMQIOLoop, self).start()\n  File \"C:\\Users\\vedan\\AppData\\Local\\conda\\conda\\envs\\dlwin36\\lib\\site-packages\\tornado\\ioloop.py\", line 888, in start\n    handler_func(fd_obj, events)\n  File \"C:\\Users\\vedan\\AppData\\Local\\conda\\conda\\envs\\dlwin36\\lib\\site-packages\\tornado\\stack_context.py\", line 277, in null_wrapper\n    return fn(*args, **kwargs)\n  File \"C:\\Users\\vedan\\AppData\\Local\\conda\\conda\\envs\\dlwin36\\lib\\site-packages\\zmq\\eventloop\\zmqstream.py\", line 440, in _handle_events\n    self._handle_recv()\n  File \"C:\\Users\\vedan\\AppData\\Local\\conda\\conda\\envs\\dlwin36\\lib\\site-packages\\zmq\\eventloop\\zmqstream.py\", line 472, in _handle_recv\n    self._run_callback(callback, msg)\n  File \"C:\\Users\\vedan\\AppData\\Local\\conda\\conda\\envs\\dlwin36\\lib\\site-packages\\zmq\\eventloop\\zmqstream.py\", line 414, in _run_callback\n    callback(*args, **kwargs)\n  File \"C:\\Users\\vedan\\AppData\\Local\\conda\\conda\\envs\\dlwin36\\lib\\site-packages\\tornado\\stack_context.py\", line 277, in null_wrapper\n    return fn(*args, **kwargs)\n  File \"C:\\Users\\vedan\\AppData\\Local\\conda\\conda\\envs\\dlwin36\\lib\\site-packages\\ipykernel\\kernelbase.py\", line 283, in dispatcher\n    return self.dispatch_shell(stream, msg)\n  File \"C:\\Users\\vedan\\AppData\\Local\\conda\\conda\\envs\\dlwin36\\lib\\site-packages\\ipykernel\\kernelbase.py\", line 235, in dispatch_shell\n    handler(stream, idents, msg)\n  File \"C:\\Users\\vedan\\AppData\\Local\\conda\\conda\\envs\\dlwin36\\lib\\site-packages\\ipykernel\\kernelbase.py\", line 399, in execute_request\n    user_expressions, allow_stdin)\n  File \"C:\\Users\\vedan\\AppData\\Local\\conda\\conda\\envs\\dlwin36\\lib\\site-packages\\ipykernel\\ipkernel.py\", line 196, in do_execute\n    res = shell.run_cell(code, store_history=store_history, silent=silent)\n  File \"C:\\Users\\vedan\\AppData\\Local\\conda\\conda\\envs\\dlwin36\\lib\\site-packages\\ipykernel\\zmqshell.py\", line 533, in run_cell\n    return super(ZMQInteractiveShell, self).run_cell(*args, **kwargs)\n  File \"C:\\Users\\vedan\\AppData\\Local\\conda\\conda\\envs\\dlwin36\\lib\\site-packages\\IPython\\core\\interactiveshell.py\", line 2698, in run_cell\n    interactivity=interactivity, compiler=compiler, result=result)\n  File \"C:\\Users\\vedan\\AppData\\Local\\conda\\conda\\envs\\dlwin36\\lib\\site-packages\\IPython\\core\\interactiveshell.py\", line 2802, in run_ast_nodes\n    if self.run_code(code, result):\n  File \"C:\\Users\\vedan\\AppData\\Local\\conda\\conda\\envs\\dlwin36\\lib\\site-packages\\IPython\\core\\interactiveshell.py\", line 2862, in run_code\n    exec(code_obj, self.user_global_ns, self.user_ns)\n  File \"<ipython-input-24-0e713f3fb1e2>\", line 2, in <module>\n    model.add(Dense(3, activation='relu', input_dim=5))\n  File \"C:\\Users\\vedan\\AppData\\Local\\conda\\conda\\envs\\dlwin36\\lib\\site-packages\\keras\\models.py\", line 443, in add\n    layer(x)\n  File \"C:\\Users\\vedan\\AppData\\Local\\conda\\conda\\envs\\dlwin36\\lib\\site-packages\\keras\\engine\\topology.py\", line 596, in __call__\n    output = self.call(inputs, **kwargs)\n  File \"C:\\Users\\vedan\\AppData\\Local\\conda\\conda\\envs\\dlwin36\\lib\\site-packages\\keras\\layers\\core.py\", line 843, in call\n    output = K.dot(inputs, self.kernel)\n  File \"C:\\Users\\vedan\\AppData\\Local\\conda\\conda\\envs\\dlwin36\\lib\\site-packages\\keras\\backend\\tensorflow_backend.py\", line 976, in dot\n    out = tf.matmul(x, y)\n  File \"C:\\Users\\vedan\\AppData\\Local\\conda\\conda\\envs\\dlwin36\\lib\\site-packages\\tensorflow\\python\\ops\\math_ops.py\", line 1816, in matmul\n    a, b, transpose_a=transpose_a, transpose_b=transpose_b, name=name)\n  File \"C:\\Users\\vedan\\AppData\\Local\\conda\\conda\\envs\\dlwin36\\lib\\site-packages\\tensorflow\\python\\ops\\gen_math_ops.py\", line 1217, in _mat_mul\n    transpose_b=transpose_b, name=name)\n  File \"C:\\Users\\vedan\\AppData\\Local\\conda\\conda\\envs\\dlwin36\\lib\\site-packages\\tensorflow\\python\\framework\\op_def_library.py\", line 767, in apply_op\n    op_def=op_def)\n  File \"C:\\Users\\vedan\\AppData\\Local\\conda\\conda\\envs\\dlwin36\\lib\\site-packages\\tensorflow\\python\\framework\\ops.py\", line 2506, in create_op\n    original_op=self._default_original_op, op_def=op_def)\n  File \"C:\\Users\\vedan\\AppData\\Local\\conda\\conda\\envs\\dlwin36\\lib\\site-packages\\tensorflow\\python\\framework\\ops.py\", line 1269, in __init__\n    self._traceback = _extract_stack()\n\nInternalError (see above for traceback): Blas GEMM launch failed : a.shape=(61, 5), b.shape=(5, 3), m=61, n=3, k=5\n\t [[Node: dense_1/MatMul = MatMul[T=DT_FLOAT, transpose_a=false, transpose_b=false, _device=\"/job:localhost/replica:0/task:0/gpu:0\"](_arg_dense_1_input_0_0/_17, dense_1/kernel/read)]]\n\t [[Node: dense_2/BiasAdd/_19 = _Recv[client_terminated=false, recv_device=\"/job:localhost/replica:0/task:0/cpu:0\", send_device=\"/job:localhost/replica:0/task:0/gpu:0\", send_device_incarnation=1, tensor_name=\"edge_23_dense_2/BiasAdd\", tensor_type=DT_FLOAT, _device=\"/job:localhost/replica:0/task:0/cpu:0\"]()]]\n",
     "output_type": "error",
     "traceback": [
      "\u001b[1;31m---------------------------------------------------------------------------\u001b[0m",
      "\u001b[1;31mInternalError\u001b[0m                             Traceback (most recent call last)",
      "\u001b[1;32m~\\AppData\\Local\\conda\\conda\\envs\\dlwin36\\lib\\site-packages\\tensorflow\\python\\client\\session.py\u001b[0m in \u001b[0;36m_do_call\u001b[1;34m(self, fn, *args)\u001b[0m\n\u001b[0;32m   1138\u001b[0m     \u001b[1;32mtry\u001b[0m\u001b[1;33m:\u001b[0m\u001b[1;33m\u001b[0m\u001b[0m\n\u001b[1;32m-> 1139\u001b[1;33m       \u001b[1;32mreturn\u001b[0m \u001b[0mfn\u001b[0m\u001b[1;33m(\u001b[0m\u001b[1;33m*\u001b[0m\u001b[0margs\u001b[0m\u001b[1;33m)\u001b[0m\u001b[1;33m\u001b[0m\u001b[0m\n\u001b[0m\u001b[0;32m   1140\u001b[0m     \u001b[1;32mexcept\u001b[0m \u001b[0merrors\u001b[0m\u001b[1;33m.\u001b[0m\u001b[0mOpError\u001b[0m \u001b[1;32mas\u001b[0m \u001b[0me\u001b[0m\u001b[1;33m:\u001b[0m\u001b[1;33m\u001b[0m\u001b[0m\n",
      "\u001b[1;32m~\\AppData\\Local\\conda\\conda\\envs\\dlwin36\\lib\\site-packages\\tensorflow\\python\\client\\session.py\u001b[0m in \u001b[0;36m_run_fn\u001b[1;34m(session, feed_dict, fetch_list, target_list, options, run_metadata)\u001b[0m\n\u001b[0;32m   1120\u001b[0m                                  \u001b[0mfeed_dict\u001b[0m\u001b[1;33m,\u001b[0m \u001b[0mfetch_list\u001b[0m\u001b[1;33m,\u001b[0m \u001b[0mtarget_list\u001b[0m\u001b[1;33m,\u001b[0m\u001b[1;33m\u001b[0m\u001b[0m\n\u001b[1;32m-> 1121\u001b[1;33m                                  status, run_metadata)\n\u001b[0m\u001b[0;32m   1122\u001b[0m \u001b[1;33m\u001b[0m\u001b[0m\n",
      "\u001b[1;32m~\\AppData\\Local\\conda\\conda\\envs\\dlwin36\\lib\\contextlib.py\u001b[0m in \u001b[0;36m__exit__\u001b[1;34m(self, type, value, traceback)\u001b[0m\n\u001b[0;32m     87\u001b[0m             \u001b[1;32mtry\u001b[0m\u001b[1;33m:\u001b[0m\u001b[1;33m\u001b[0m\u001b[0m\n\u001b[1;32m---> 88\u001b[1;33m                 \u001b[0mnext\u001b[0m\u001b[1;33m(\u001b[0m\u001b[0mself\u001b[0m\u001b[1;33m.\u001b[0m\u001b[0mgen\u001b[0m\u001b[1;33m)\u001b[0m\u001b[1;33m\u001b[0m\u001b[0m\n\u001b[0m\u001b[0;32m     89\u001b[0m             \u001b[1;32mexcept\u001b[0m \u001b[0mStopIteration\u001b[0m\u001b[1;33m:\u001b[0m\u001b[1;33m\u001b[0m\u001b[0m\n",
      "\u001b[1;32m~\\AppData\\Local\\conda\\conda\\envs\\dlwin36\\lib\\site-packages\\tensorflow\\python\\framework\\errors_impl.py\u001b[0m in \u001b[0;36mraise_exception_on_not_ok_status\u001b[1;34m()\u001b[0m\n\u001b[0;32m    465\u001b[0m           \u001b[0mcompat\u001b[0m\u001b[1;33m.\u001b[0m\u001b[0mas_text\u001b[0m\u001b[1;33m(\u001b[0m\u001b[0mpywrap_tensorflow\u001b[0m\u001b[1;33m.\u001b[0m\u001b[0mTF_Message\u001b[0m\u001b[1;33m(\u001b[0m\u001b[0mstatus\u001b[0m\u001b[1;33m)\u001b[0m\u001b[1;33m)\u001b[0m\u001b[1;33m,\u001b[0m\u001b[1;33m\u001b[0m\u001b[0m\n\u001b[1;32m--> 466\u001b[1;33m           pywrap_tensorflow.TF_GetCode(status))\n\u001b[0m\u001b[0;32m    467\u001b[0m   \u001b[1;32mfinally\u001b[0m\u001b[1;33m:\u001b[0m\u001b[1;33m\u001b[0m\u001b[0m\n",
      "\u001b[1;31mInternalError\u001b[0m: Blas GEMM launch failed : a.shape=(61, 5), b.shape=(5, 3), m=61, n=3, k=5\n\t [[Node: dense_1/MatMul = MatMul[T=DT_FLOAT, transpose_a=false, transpose_b=false, _device=\"/job:localhost/replica:0/task:0/gpu:0\"](_arg_dense_1_input_0_0/_17, dense_1/kernel/read)]]\n\t [[Node: dense_2/BiasAdd/_19 = _Recv[client_terminated=false, recv_device=\"/job:localhost/replica:0/task:0/cpu:0\", send_device=\"/job:localhost/replica:0/task:0/gpu:0\", send_device_incarnation=1, tensor_name=\"edge_23_dense_2/BiasAdd\", tensor_type=DT_FLOAT, _device=\"/job:localhost/replica:0/task:0/cpu:0\"]()]]",
      "\nDuring handling of the above exception, another exception occurred:\n",
      "\u001b[1;31mInternalError\u001b[0m                             Traceback (most recent call last)",
      "\u001b[1;32m<ipython-input-25-61f97e4c99d1>\u001b[0m in \u001b[0;36m<module>\u001b[1;34m()\u001b[0m\n\u001b[0;32m      5\u001b[0m     \u001b[0mTt_X\u001b[0m \u001b[1;33m=\u001b[0m \u001b[0mtest_x\u001b[0m\u001b[1;33m[\u001b[0m\u001b[0mi\u001b[0m\u001b[1;33m]\u001b[0m\u001b[1;33m\u001b[0m\u001b[0m\n\u001b[0;32m      6\u001b[0m     \u001b[0mTt_Y\u001b[0m \u001b[1;33m=\u001b[0m \u001b[0mnp\u001b[0m\u001b[1;33m.\u001b[0m\u001b[0mreshape\u001b[0m\u001b[1;33m(\u001b[0m\u001b[0mtest_y\u001b[0m\u001b[1;33m[\u001b[0m\u001b[0mi\u001b[0m\u001b[1;33m]\u001b[0m\u001b[1;33m[\u001b[0m\u001b[1;33m:\u001b[0m\u001b[1;33m,\u001b[0m\u001b[1;33m-\u001b[0m\u001b[1;36m1\u001b[0m\u001b[1;33m]\u001b[0m\u001b[1;33m,\u001b[0m\u001b[1;33m(\u001b[0m\u001b[0mtest_y\u001b[0m\u001b[1;33m[\u001b[0m\u001b[0mi\u001b[0m\u001b[1;33m]\u001b[0m\u001b[1;33m[\u001b[0m\u001b[1;33m:\u001b[0m\u001b[1;33m,\u001b[0m\u001b[1;33m-\u001b[0m\u001b[1;36m1\u001b[0m\u001b[1;33m]\u001b[0m\u001b[1;33m.\u001b[0m\u001b[0mshape\u001b[0m\u001b[1;33m[\u001b[0m\u001b[1;36m0\u001b[0m\u001b[1;33m]\u001b[0m\u001b[1;33m,\u001b[0m\u001b[1;36m1\u001b[0m\u001b[1;33m)\u001b[0m\u001b[1;33m)\u001b[0m\u001b[1;33m\u001b[0m\u001b[0m\n\u001b[1;32m----> 7\u001b[1;33m     \u001b[0mpredicted\u001b[0m \u001b[1;33m=\u001b[0m \u001b[0mmodel\u001b[0m\u001b[1;33m.\u001b[0m\u001b[0mpredict\u001b[0m\u001b[1;33m(\u001b[0m\u001b[0mTt_X\u001b[0m\u001b[1;33m,\u001b[0m \u001b[0mbatch_size\u001b[0m\u001b[1;33m=\u001b[0m\u001b[0mTt_X\u001b[0m\u001b[1;33m.\u001b[0m\u001b[0mshape\u001b[0m\u001b[1;33m[\u001b[0m\u001b[1;36m0\u001b[0m\u001b[1;33m]\u001b[0m\u001b[1;33m)\u001b[0m\u001b[1;33m\u001b[0m\u001b[0m\n\u001b[0m\u001b[0;32m      8\u001b[0m     \u001b[1;32mfor\u001b[0m \u001b[0mPred\u001b[0m\u001b[1;33m,\u001b[0m\u001b[0mActual\u001b[0m \u001b[1;32min\u001b[0m \u001b[0mzip\u001b[0m\u001b[1;33m(\u001b[0m\u001b[0mpredicted\u001b[0m\u001b[1;33m,\u001b[0m\u001b[0mTt_Y\u001b[0m\u001b[1;33m)\u001b[0m\u001b[1;33m:\u001b[0m\u001b[1;33m\u001b[0m\u001b[0m\n\u001b[0;32m      9\u001b[0m         \u001b[1;32mif\u001b[0m \u001b[0mPred\u001b[0m \u001b[1;33m>=\u001b[0m \u001b[1;36m7\u001b[0m \u001b[1;32mand\u001b[0m \u001b[0mActual\u001b[0m \u001b[1;33m>=\u001b[0m \u001b[1;36m7\u001b[0m\u001b[1;33m:\u001b[0m\u001b[1;33m\u001b[0m\u001b[0m\n",
      "\u001b[1;32m~\\AppData\\Local\\conda\\conda\\envs\\dlwin36\\lib\\site-packages\\keras\\models.py\u001b[0m in \u001b[0;36mpredict\u001b[1;34m(self, x, batch_size, verbose)\u001b[0m\n\u001b[0;32m    914\u001b[0m         \u001b[1;32mif\u001b[0m \u001b[0mself\u001b[0m\u001b[1;33m.\u001b[0m\u001b[0mmodel\u001b[0m \u001b[1;32mis\u001b[0m \u001b[1;32mNone\u001b[0m\u001b[1;33m:\u001b[0m\u001b[1;33m\u001b[0m\u001b[0m\n\u001b[0;32m    915\u001b[0m             \u001b[0mself\u001b[0m\u001b[1;33m.\u001b[0m\u001b[0mbuild\u001b[0m\u001b[1;33m(\u001b[0m\u001b[1;33m)\u001b[0m\u001b[1;33m\u001b[0m\u001b[0m\n\u001b[1;32m--> 916\u001b[1;33m         \u001b[1;32mreturn\u001b[0m \u001b[0mself\u001b[0m\u001b[1;33m.\u001b[0m\u001b[0mmodel\u001b[0m\u001b[1;33m.\u001b[0m\u001b[0mpredict\u001b[0m\u001b[1;33m(\u001b[0m\u001b[0mx\u001b[0m\u001b[1;33m,\u001b[0m \u001b[0mbatch_size\u001b[0m\u001b[1;33m=\u001b[0m\u001b[0mbatch_size\u001b[0m\u001b[1;33m,\u001b[0m \u001b[0mverbose\u001b[0m\u001b[1;33m=\u001b[0m\u001b[0mverbose\u001b[0m\u001b[1;33m)\u001b[0m\u001b[1;33m\u001b[0m\u001b[0m\n\u001b[0m\u001b[0;32m    917\u001b[0m \u001b[1;33m\u001b[0m\u001b[0m\n\u001b[0;32m    918\u001b[0m     \u001b[1;32mdef\u001b[0m \u001b[0mpredict_on_batch\u001b[0m\u001b[1;33m(\u001b[0m\u001b[0mself\u001b[0m\u001b[1;33m,\u001b[0m \u001b[0mx\u001b[0m\u001b[1;33m)\u001b[0m\u001b[1;33m:\u001b[0m\u001b[1;33m\u001b[0m\u001b[0m\n",
      "\u001b[1;32m~\\AppData\\Local\\conda\\conda\\envs\\dlwin36\\lib\\site-packages\\keras\\engine\\training.py\u001b[0m in \u001b[0;36mpredict\u001b[1;34m(self, x, batch_size, verbose)\u001b[0m\n\u001b[0;32m   1592\u001b[0m         \u001b[0mf\u001b[0m \u001b[1;33m=\u001b[0m \u001b[0mself\u001b[0m\u001b[1;33m.\u001b[0m\u001b[0mpredict_function\u001b[0m\u001b[1;33m\u001b[0m\u001b[0m\n\u001b[0;32m   1593\u001b[0m         return self._predict_loop(f, ins,\n\u001b[1;32m-> 1594\u001b[1;33m                                   batch_size=batch_size, verbose=verbose)\n\u001b[0m\u001b[0;32m   1595\u001b[0m \u001b[1;33m\u001b[0m\u001b[0m\n\u001b[0;32m   1596\u001b[0m     def train_on_batch(self, x, y,\n",
      "\u001b[1;32m~\\AppData\\Local\\conda\\conda\\envs\\dlwin36\\lib\\site-packages\\keras\\engine\\training.py\u001b[0m in \u001b[0;36m_predict_loop\u001b[1;34m(self, f, ins, batch_size, verbose)\u001b[0m\n\u001b[0;32m   1216\u001b[0m                 \u001b[0mins_batch\u001b[0m \u001b[1;33m=\u001b[0m \u001b[0m_slice_arrays\u001b[0m\u001b[1;33m(\u001b[0m\u001b[0mins\u001b[0m\u001b[1;33m,\u001b[0m \u001b[0mbatch_ids\u001b[0m\u001b[1;33m)\u001b[0m\u001b[1;33m\u001b[0m\u001b[0m\n\u001b[0;32m   1217\u001b[0m \u001b[1;33m\u001b[0m\u001b[0m\n\u001b[1;32m-> 1218\u001b[1;33m             \u001b[0mbatch_outs\u001b[0m \u001b[1;33m=\u001b[0m \u001b[0mf\u001b[0m\u001b[1;33m(\u001b[0m\u001b[0mins_batch\u001b[0m\u001b[1;33m)\u001b[0m\u001b[1;33m\u001b[0m\u001b[0m\n\u001b[0m\u001b[0;32m   1219\u001b[0m             \u001b[1;32mif\u001b[0m \u001b[1;32mnot\u001b[0m \u001b[0misinstance\u001b[0m\u001b[1;33m(\u001b[0m\u001b[0mbatch_outs\u001b[0m\u001b[1;33m,\u001b[0m \u001b[0mlist\u001b[0m\u001b[1;33m)\u001b[0m\u001b[1;33m:\u001b[0m\u001b[1;33m\u001b[0m\u001b[0m\n\u001b[0;32m   1220\u001b[0m                 \u001b[0mbatch_outs\u001b[0m \u001b[1;33m=\u001b[0m \u001b[1;33m[\u001b[0m\u001b[0mbatch_outs\u001b[0m\u001b[1;33m]\u001b[0m\u001b[1;33m\u001b[0m\u001b[0m\n",
      "\u001b[1;32m~\\AppData\\Local\\conda\\conda\\envs\\dlwin36\\lib\\site-packages\\keras\\backend\\tensorflow_backend.py\u001b[0m in \u001b[0;36m__call__\u001b[1;34m(self, inputs)\u001b[0m\n\u001b[0;32m   2267\u001b[0m         updated = session.run(self.outputs + [self.updates_op],\n\u001b[0;32m   2268\u001b[0m                               \u001b[0mfeed_dict\u001b[0m\u001b[1;33m=\u001b[0m\u001b[0mfeed_dict\u001b[0m\u001b[1;33m,\u001b[0m\u001b[1;33m\u001b[0m\u001b[0m\n\u001b[1;32m-> 2269\u001b[1;33m                               **self.session_kwargs)\n\u001b[0m\u001b[0;32m   2270\u001b[0m         \u001b[1;32mreturn\u001b[0m \u001b[0mupdated\u001b[0m\u001b[1;33m[\u001b[0m\u001b[1;33m:\u001b[0m\u001b[0mlen\u001b[0m\u001b[1;33m(\u001b[0m\u001b[0mself\u001b[0m\u001b[1;33m.\u001b[0m\u001b[0moutputs\u001b[0m\u001b[1;33m)\u001b[0m\u001b[1;33m]\u001b[0m\u001b[1;33m\u001b[0m\u001b[0m\n\u001b[0;32m   2271\u001b[0m \u001b[1;33m\u001b[0m\u001b[0m\n",
      "\u001b[1;32m~\\AppData\\Local\\conda\\conda\\envs\\dlwin36\\lib\\site-packages\\tensorflow\\python\\client\\session.py\u001b[0m in \u001b[0;36mrun\u001b[1;34m(self, fetches, feed_dict, options, run_metadata)\u001b[0m\n\u001b[0;32m    787\u001b[0m     \u001b[1;32mtry\u001b[0m\u001b[1;33m:\u001b[0m\u001b[1;33m\u001b[0m\u001b[0m\n\u001b[0;32m    788\u001b[0m       result = self._run(None, fetches, feed_dict, options_ptr,\n\u001b[1;32m--> 789\u001b[1;33m                          run_metadata_ptr)\n\u001b[0m\u001b[0;32m    790\u001b[0m       \u001b[1;32mif\u001b[0m \u001b[0mrun_metadata\u001b[0m\u001b[1;33m:\u001b[0m\u001b[1;33m\u001b[0m\u001b[0m\n\u001b[0;32m    791\u001b[0m         \u001b[0mproto_data\u001b[0m \u001b[1;33m=\u001b[0m \u001b[0mtf_session\u001b[0m\u001b[1;33m.\u001b[0m\u001b[0mTF_GetBuffer\u001b[0m\u001b[1;33m(\u001b[0m\u001b[0mrun_metadata_ptr\u001b[0m\u001b[1;33m)\u001b[0m\u001b[1;33m\u001b[0m\u001b[0m\n",
      "\u001b[1;32m~\\AppData\\Local\\conda\\conda\\envs\\dlwin36\\lib\\site-packages\\tensorflow\\python\\client\\session.py\u001b[0m in \u001b[0;36m_run\u001b[1;34m(self, handle, fetches, feed_dict, options, run_metadata)\u001b[0m\n\u001b[0;32m    995\u001b[0m     \u001b[1;32mif\u001b[0m \u001b[0mfinal_fetches\u001b[0m \u001b[1;32mor\u001b[0m \u001b[0mfinal_targets\u001b[0m\u001b[1;33m:\u001b[0m\u001b[1;33m\u001b[0m\u001b[0m\n\u001b[0;32m    996\u001b[0m       results = self._do_run(handle, final_targets, final_fetches,\n\u001b[1;32m--> 997\u001b[1;33m                              feed_dict_string, options, run_metadata)\n\u001b[0m\u001b[0;32m    998\u001b[0m     \u001b[1;32melse\u001b[0m\u001b[1;33m:\u001b[0m\u001b[1;33m\u001b[0m\u001b[0m\n\u001b[0;32m    999\u001b[0m       \u001b[0mresults\u001b[0m \u001b[1;33m=\u001b[0m \u001b[1;33m[\u001b[0m\u001b[1;33m]\u001b[0m\u001b[1;33m\u001b[0m\u001b[0m\n",
      "\u001b[1;32m~\\AppData\\Local\\conda\\conda\\envs\\dlwin36\\lib\\site-packages\\tensorflow\\python\\client\\session.py\u001b[0m in \u001b[0;36m_do_run\u001b[1;34m(self, handle, target_list, fetch_list, feed_dict, options, run_metadata)\u001b[0m\n\u001b[0;32m   1130\u001b[0m     \u001b[1;32mif\u001b[0m \u001b[0mhandle\u001b[0m \u001b[1;32mis\u001b[0m \u001b[1;32mNone\u001b[0m\u001b[1;33m:\u001b[0m\u001b[1;33m\u001b[0m\u001b[0m\n\u001b[0;32m   1131\u001b[0m       return self._do_call(_run_fn, self._session, feed_dict, fetch_list,\n\u001b[1;32m-> 1132\u001b[1;33m                            target_list, options, run_metadata)\n\u001b[0m\u001b[0;32m   1133\u001b[0m     \u001b[1;32melse\u001b[0m\u001b[1;33m:\u001b[0m\u001b[1;33m\u001b[0m\u001b[0m\n\u001b[0;32m   1134\u001b[0m       return self._do_call(_prun_fn, self._session, handle, feed_dict,\n",
      "\u001b[1;32m~\\AppData\\Local\\conda\\conda\\envs\\dlwin36\\lib\\site-packages\\tensorflow\\python\\client\\session.py\u001b[0m in \u001b[0;36m_do_call\u001b[1;34m(self, fn, *args)\u001b[0m\n\u001b[0;32m   1150\u001b[0m         \u001b[1;32mexcept\u001b[0m \u001b[0mKeyError\u001b[0m\u001b[1;33m:\u001b[0m\u001b[1;33m\u001b[0m\u001b[0m\n\u001b[0;32m   1151\u001b[0m           \u001b[1;32mpass\u001b[0m\u001b[1;33m\u001b[0m\u001b[0m\n\u001b[1;32m-> 1152\u001b[1;33m       \u001b[1;32mraise\u001b[0m \u001b[0mtype\u001b[0m\u001b[1;33m(\u001b[0m\u001b[0me\u001b[0m\u001b[1;33m)\u001b[0m\u001b[1;33m(\u001b[0m\u001b[0mnode_def\u001b[0m\u001b[1;33m,\u001b[0m \u001b[0mop\u001b[0m\u001b[1;33m,\u001b[0m \u001b[0mmessage\u001b[0m\u001b[1;33m)\u001b[0m\u001b[1;33m\u001b[0m\u001b[0m\n\u001b[0m\u001b[0;32m   1153\u001b[0m \u001b[1;33m\u001b[0m\u001b[0m\n\u001b[0;32m   1154\u001b[0m   \u001b[1;32mdef\u001b[0m \u001b[0m_extend_graph\u001b[0m\u001b[1;33m(\u001b[0m\u001b[0mself\u001b[0m\u001b[1;33m)\u001b[0m\u001b[1;33m:\u001b[0m\u001b[1;33m\u001b[0m\u001b[0m\n",
      "\u001b[1;31mInternalError\u001b[0m: Blas GEMM launch failed : a.shape=(61, 5), b.shape=(5, 3), m=61, n=3, k=5\n\t [[Node: dense_1/MatMul = MatMul[T=DT_FLOAT, transpose_a=false, transpose_b=false, _device=\"/job:localhost/replica:0/task:0/gpu:0\"](_arg_dense_1_input_0_0/_17, dense_1/kernel/read)]]\n\t [[Node: dense_2/BiasAdd/_19 = _Recv[client_terminated=false, recv_device=\"/job:localhost/replica:0/task:0/cpu:0\", send_device=\"/job:localhost/replica:0/task:0/gpu:0\", send_device_incarnation=1, tensor_name=\"edge_23_dense_2/BiasAdd\", tensor_type=DT_FLOAT, _device=\"/job:localhost/replica:0/task:0/cpu:0\"]()]]\n\nCaused by op 'dense_1/MatMul', defined at:\n  File \"C:\\Users\\vedan\\AppData\\Local\\conda\\conda\\envs\\dlwin36\\lib\\runpy.py\", line 193, in _run_module_as_main\n    \"__main__\", mod_spec)\n  File \"C:\\Users\\vedan\\AppData\\Local\\conda\\conda\\envs\\dlwin36\\lib\\runpy.py\", line 85, in _run_code\n    exec(code, run_globals)\n  File \"C:\\Users\\vedan\\AppData\\Local\\conda\\conda\\envs\\dlwin36\\lib\\site-packages\\ipykernel_launcher.py\", line 16, in <module>\n    app.launch_new_instance()\n  File \"C:\\Users\\vedan\\AppData\\Local\\conda\\conda\\envs\\dlwin36\\lib\\site-packages\\traitlets\\config\\application.py\", line 658, in launch_instance\n    app.start()\n  File \"C:\\Users\\vedan\\AppData\\Local\\conda\\conda\\envs\\dlwin36\\lib\\site-packages\\ipykernel\\kernelapp.py\", line 477, in start\n    ioloop.IOLoop.instance().start()\n  File \"C:\\Users\\vedan\\AppData\\Local\\conda\\conda\\envs\\dlwin36\\lib\\site-packages\\zmq\\eventloop\\ioloop.py\", line 177, in start\n    super(ZMQIOLoop, self).start()\n  File \"C:\\Users\\vedan\\AppData\\Local\\conda\\conda\\envs\\dlwin36\\lib\\site-packages\\tornado\\ioloop.py\", line 888, in start\n    handler_func(fd_obj, events)\n  File \"C:\\Users\\vedan\\AppData\\Local\\conda\\conda\\envs\\dlwin36\\lib\\site-packages\\tornado\\stack_context.py\", line 277, in null_wrapper\n    return fn(*args, **kwargs)\n  File \"C:\\Users\\vedan\\AppData\\Local\\conda\\conda\\envs\\dlwin36\\lib\\site-packages\\zmq\\eventloop\\zmqstream.py\", line 440, in _handle_events\n    self._handle_recv()\n  File \"C:\\Users\\vedan\\AppData\\Local\\conda\\conda\\envs\\dlwin36\\lib\\site-packages\\zmq\\eventloop\\zmqstream.py\", line 472, in _handle_recv\n    self._run_callback(callback, msg)\n  File \"C:\\Users\\vedan\\AppData\\Local\\conda\\conda\\envs\\dlwin36\\lib\\site-packages\\zmq\\eventloop\\zmqstream.py\", line 414, in _run_callback\n    callback(*args, **kwargs)\n  File \"C:\\Users\\vedan\\AppData\\Local\\conda\\conda\\envs\\dlwin36\\lib\\site-packages\\tornado\\stack_context.py\", line 277, in null_wrapper\n    return fn(*args, **kwargs)\n  File \"C:\\Users\\vedan\\AppData\\Local\\conda\\conda\\envs\\dlwin36\\lib\\site-packages\\ipykernel\\kernelbase.py\", line 283, in dispatcher\n    return self.dispatch_shell(stream, msg)\n  File \"C:\\Users\\vedan\\AppData\\Local\\conda\\conda\\envs\\dlwin36\\lib\\site-packages\\ipykernel\\kernelbase.py\", line 235, in dispatch_shell\n    handler(stream, idents, msg)\n  File \"C:\\Users\\vedan\\AppData\\Local\\conda\\conda\\envs\\dlwin36\\lib\\site-packages\\ipykernel\\kernelbase.py\", line 399, in execute_request\n    user_expressions, allow_stdin)\n  File \"C:\\Users\\vedan\\AppData\\Local\\conda\\conda\\envs\\dlwin36\\lib\\site-packages\\ipykernel\\ipkernel.py\", line 196, in do_execute\n    res = shell.run_cell(code, store_history=store_history, silent=silent)\n  File \"C:\\Users\\vedan\\AppData\\Local\\conda\\conda\\envs\\dlwin36\\lib\\site-packages\\ipykernel\\zmqshell.py\", line 533, in run_cell\n    return super(ZMQInteractiveShell, self).run_cell(*args, **kwargs)\n  File \"C:\\Users\\vedan\\AppData\\Local\\conda\\conda\\envs\\dlwin36\\lib\\site-packages\\IPython\\core\\interactiveshell.py\", line 2698, in run_cell\n    interactivity=interactivity, compiler=compiler, result=result)\n  File \"C:\\Users\\vedan\\AppData\\Local\\conda\\conda\\envs\\dlwin36\\lib\\site-packages\\IPython\\core\\interactiveshell.py\", line 2802, in run_ast_nodes\n    if self.run_code(code, result):\n  File \"C:\\Users\\vedan\\AppData\\Local\\conda\\conda\\envs\\dlwin36\\lib\\site-packages\\IPython\\core\\interactiveshell.py\", line 2862, in run_code\n    exec(code_obj, self.user_global_ns, self.user_ns)\n  File \"<ipython-input-24-0e713f3fb1e2>\", line 2, in <module>\n    model.add(Dense(3, activation='relu', input_dim=5))\n  File \"C:\\Users\\vedan\\AppData\\Local\\conda\\conda\\envs\\dlwin36\\lib\\site-packages\\keras\\models.py\", line 443, in add\n    layer(x)\n  File \"C:\\Users\\vedan\\AppData\\Local\\conda\\conda\\envs\\dlwin36\\lib\\site-packages\\keras\\engine\\topology.py\", line 596, in __call__\n    output = self.call(inputs, **kwargs)\n  File \"C:\\Users\\vedan\\AppData\\Local\\conda\\conda\\envs\\dlwin36\\lib\\site-packages\\keras\\layers\\core.py\", line 843, in call\n    output = K.dot(inputs, self.kernel)\n  File \"C:\\Users\\vedan\\AppData\\Local\\conda\\conda\\envs\\dlwin36\\lib\\site-packages\\keras\\backend\\tensorflow_backend.py\", line 976, in dot\n    out = tf.matmul(x, y)\n  File \"C:\\Users\\vedan\\AppData\\Local\\conda\\conda\\envs\\dlwin36\\lib\\site-packages\\tensorflow\\python\\ops\\math_ops.py\", line 1816, in matmul\n    a, b, transpose_a=transpose_a, transpose_b=transpose_b, name=name)\n  File \"C:\\Users\\vedan\\AppData\\Local\\conda\\conda\\envs\\dlwin36\\lib\\site-packages\\tensorflow\\python\\ops\\gen_math_ops.py\", line 1217, in _mat_mul\n    transpose_b=transpose_b, name=name)\n  File \"C:\\Users\\vedan\\AppData\\Local\\conda\\conda\\envs\\dlwin36\\lib\\site-packages\\tensorflow\\python\\framework\\op_def_library.py\", line 767, in apply_op\n    op_def=op_def)\n  File \"C:\\Users\\vedan\\AppData\\Local\\conda\\conda\\envs\\dlwin36\\lib\\site-packages\\tensorflow\\python\\framework\\ops.py\", line 2506, in create_op\n    original_op=self._default_original_op, op_def=op_def)\n  File \"C:\\Users\\vedan\\AppData\\Local\\conda\\conda\\envs\\dlwin36\\lib\\site-packages\\tensorflow\\python\\framework\\ops.py\", line 1269, in __init__\n    self._traceback = _extract_stack()\n\nInternalError (see above for traceback): Blas GEMM launch failed : a.shape=(61, 5), b.shape=(5, 3), m=61, n=3, k=5\n\t [[Node: dense_1/MatMul = MatMul[T=DT_FLOAT, transpose_a=false, transpose_b=false, _device=\"/job:localhost/replica:0/task:0/gpu:0\"](_arg_dense_1_input_0_0/_17, dense_1/kernel/read)]]\n\t [[Node: dense_2/BiasAdd/_19 = _Recv[client_terminated=false, recv_device=\"/job:localhost/replica:0/task:0/cpu:0\", send_device=\"/job:localhost/replica:0/task:0/gpu:0\", send_device_incarnation=1, tensor_name=\"edge_23_dense_2/BiasAdd\", tensor_type=DT_FLOAT, _device=\"/job:localhost/replica:0/task:0/cpu:0\"]()]]\n"
     ]
    }
   ],
   "source": [
    "err,tp,fp,fn,tn = 0.0,0.0,0.0,0.0,0.0\n",
    "\n",
    "for i in range(len(train_x)):\n",
    "    model.load_weights('./mod/model_' + str(1) + '.h5')\n",
    "    Tt_X = test_x[i]\n",
    "    Tt_Y = np.reshape(test_y[i][:,-1],(test_y[i][:,-1].shape[0],1))\n",
    "    predicted = model.predict(Tt_X, batch_size=Tt_X.shape[0])\n",
    "    for Pred,Actual in zip(predicted,Tt_Y):\n",
    "        if Pred >= 7 and Actual >= 7:\n",
    "            tp+=1.0\n",
    "        elif Pred < 7 and Actual >= 7:\n",
    "            fn+=1.0\n",
    "        elif Pred >= 7 and Actual < 7:\n",
    "            fp+=1.0\n",
    "        else:\n",
    "            tn+=1.0\n",
    "#     prec += tp/(tp+fp)\n",
    "#     recal += tp/(tp+fn)\n",
    "    err+=np.absolute((predicted - Tt_Y).mean(axis=0))\n",
    "    \n",
    "print(err/len(train_x))\n",
    "print(tp,fp,fn,tn)\n",
    "# print(prec/len(train_x))\n",
    "# print(recal/len(train_x))\n",
    "# print((2*recal*prec)/(recal + prec))"
   ]
  },
  {
   "cell_type": "code",
   "execution_count": 70,
   "metadata": {},
   "outputs": [
    {
     "name": "stdout",
     "output_type": "stream",
     "text": [
      "0.9141436963398102\n",
      "0.9262820512820513\n",
      "0.9201728451216739\n"
     ]
    }
   ],
   "source": [
    "print(tp/(tp+fp))\n",
    "print(tp/(tp+fn))\n",
    "prec = tp/(tp+fp)\n",
    "recal = tp/(tp+fn)\n",
    "print((2*recal*prec)/(recal + prec))"
   ]
  },
  {
   "cell_type": "code",
   "execution_count": 72,
   "metadata": {},
   "outputs": [
    {
     "name": "stdout",
     "output_type": "stream",
     "text": [
      "0.8551382583574082\n"
     ]
    }
   ],
   "source": [
    "print((tp+tn)/(tn+tp+fp+fn))"
   ]
  },
  {
   "cell_type": "code",
   "execution_count": 21,
   "metadata": {
    "collapsed": true
   },
   "outputs": [
    {
     "data": {
      "text/plain": [
       "array([[ 13.],\n",
       "       [ 13.],\n",
       "       [ 13.],\n",
       "       [ 13.],\n",
       "       [ 13.],\n",
       "       [ 13.],\n",
       "       [ 13.],\n",
       "       [ 13.],\n",
       "       [ 13.],\n",
       "       [ 13.],\n",
       "       [ 13.],\n",
       "       [ 13.],\n",
       "       [ 13.],\n",
       "       [ 13.],\n",
       "       [ 13.],\n",
       "       [ 13.],\n",
       "       [ 13.],\n",
       "       [ 13.],\n",
       "       [ 13.],\n",
       "       [ 13.],\n",
       "       [ 13.],\n",
       "       [ 13.],\n",
       "       [ 13.],\n",
       "       [ 13.],\n",
       "       [ 13.],\n",
       "       [ 13.],\n",
       "       [ 13.],\n",
       "       [ 13.],\n",
       "       [ 13.],\n",
       "       [ 13.],\n",
       "       [ 13.],\n",
       "       [ 13.],\n",
       "       [ 13.],\n",
       "       [ 13.],\n",
       "       [ 13.],\n",
       "       [ 13.],\n",
       "       [ 13.],\n",
       "       [ 13.],\n",
       "       [ 13.],\n",
       "       [ 13.],\n",
       "       [ 13.],\n",
       "       [ 13.],\n",
       "       [  5.],\n",
       "       [  5.],\n",
       "       [  5.],\n",
       "       [  5.],\n",
       "       [  5.],\n",
       "       [ 13.],\n",
       "       [ 13.],\n",
       "       [ 13.],\n",
       "       [ 13.],\n",
       "       [ 13.],\n",
       "       [ 13.],\n",
       "       [ 13.],\n",
       "       [ 13.],\n",
       "       [ 13.],\n",
       "       [ 13.],\n",
       "       [ 13.],\n",
       "       [ 13.],\n",
       "       [ 13.],\n",
       "       [ 13.]])"
      ]
     },
     "execution_count": 21,
     "metadata": {},
     "output_type": "execute_result"
    }
   ],
   "source": [
    "np.reshape(test_y[0][:,-1],(test_y[0][:,-1].shape[0],1))"
   ]
  },
  {
   "cell_type": "code",
   "execution_count": null,
   "metadata": {
    "collapsed": true
   },
   "outputs": [],
   "source": []
  },
  {
   "cell_type": "code",
   "execution_count": null,
   "metadata": {
    "collapsed": true
   },
   "outputs": [],
   "source": []
  }
 ],
 "metadata": {
  "kernelspec": {
   "display_name": "Python 3",
   "language": "python",
   "name": "python3"
  },
  "language_info": {
   "codemirror_mode": {
    "name": "ipython",
    "version": 3
   },
   "file_extension": ".py",
   "mimetype": "text/x-python",
   "name": "python",
   "nbconvert_exporter": "python",
   "pygments_lexer": "ipython3",
   "version": "3.6.2"
  }
 },
 "nbformat": 4,
 "nbformat_minor": 2
}

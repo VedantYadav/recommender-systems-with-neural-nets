{
 "cells": [
  {
   "cell_type": "code",
   "execution_count": 1,
   "metadata": {
    "collapsed": true
   },
   "outputs": [],
   "source": [
    "import numpy as np\n",
    "from numpy import array\n",
    "from math import sqrt\n",
    "from numpy import zeros"
   ]
  },
  {
   "cell_type": "code",
   "execution_count": 3,
   "metadata": {
    "collapsed": true
   },
   "outputs": [],
   "source": [
    "train = np.loadtxt(\"train.csv\",delimiter=',')\n",
    "test = np.loadtxt(\"test.csv\",delimiter=',')\n",
    "passive = np.loadtxt(\"passive.csv\",delimiter=',')"
   ]
  },
  {
   "cell_type": "code",
   "execution_count": 4,
   "metadata": {},
   "outputs": [
    {
     "name": "stdout",
     "output_type": "stream",
     "text": [
      "(51, 1683)\n",
      "(51, 1683)\n",
      "(448, 1683)\n"
     ]
    }
   ],
   "source": [
    "print(train.shape)\n",
    "print(test.shape)\n",
    "print(passive.shape)"
   ]
  },
  {
   "cell_type": "code",
   "execution_count": 5,
   "metadata": {
    "collapsed": true
   },
   "outputs": [],
   "source": [
    "def matr(shp):\n",
    "    temp = zeros(shp)\n",
    "    temp[0,:] = range(shp[1])\n",
    "    temp[:,0] = range(shp[0])\n",
    "    return temp\n",
    "\n",
    "def simlarity(row1,passive_user,k):\n",
    "    k_neighbr,idx,arr = np.zeros(passive_user.shape[0]),0,passive[:,0]\n",
    "#     print passive_user.shape[0]\n",
    "    for row2 in passive_user[:,1:]:\n",
    "        temp1,temp2,temp3 = 0,0,0\n",
    "#         print np.sum([row1], axis=1)\n",
    "        mu1 = np.sum([row1], axis=1)[0]/row1.nonzero()[0].shape[0]\n",
    "        mu2 = np.sum([row2], axis=1)[0]/row2.nonzero()[0].shape[0]\n",
    "        for i in range(len(row1)):\n",
    "            if row1[i] is not 0 and row2[i] is not 0:\n",
    "                temp1 += ((row1[i] - mu1) * (row2[i] - mu2))\n",
    "                temp2 += (row1[i] - mu1) * (row1[i] - mu1)\n",
    "                temp3 += (row2[i] - mu2) * (row2[i] - mu2)\n",
    "        k_neighbr[idx] = temp1/(sqrt(temp2) * sqrt(temp3))\n",
    "        idx+=1\n",
    "    return arr[k_neighbr.argsort()][-k:][::-1]\n",
    "\n",
    "def k_neighbor(data,passive_user,k=30):\n",
    "    users,idx = matr((data.shape[0],k+1)),1\n",
    "    for user in data[1:,1:]:\n",
    "        users[idx,1:],users[idx,0] = simlarity(user,passive[1:],k),data[idx,0]\n",
    "        idx += 1    \n",
    "    return users"
   ]
  },
  {
   "cell_type": "code",
   "execution_count": 6,
   "metadata": {
    "collapsed": true
   },
   "outputs": [],
   "source": [
    "relation_matrix = k_neighbor(train,passive)"
   ]
  },
  {
   "cell_type": "code",
   "execution_count": 7,
   "metadata": {},
   "outputs": [
    {
     "data": {
      "text/plain": [
       "array([ 536.,  507.,  147.,  696.,  745.,  341.,  290.,  636.,  328.,\n",
       "        621.,   47.,  450.,  386.,  926.,  320.,  912.,  425.,  114.,\n",
       "        393.,  876.,   98.,  471.,  478.,   74.,   81.,  452.,   61.,\n",
       "        805.,  917.,  238.,  342.])"
      ]
     },
     "execution_count": 7,
     "metadata": {},
     "output_type": "execute_result"
    }
   ],
   "source": [
    "# a = array([5, 2, 7, 4, 4, 2, 8, 6, 4, 4])\n",
    "# a[::-1].sort()\n",
    "# print a.argsort()[-3:][::-1]\n",
    "# print a.argsort()[-3:][::-1] + [1,1,1]\n",
    "# print a[:3]\n",
    "# print a.argsort()[-3:]\n",
    "# print a[a.argsort()[-3:][::-1]]\n",
    "relation_matrix.shape\n",
    "relation_matrix[1,:]"
   ]
  },
  {
   "cell_type": "code",
   "execution_count": 7,
   "metadata": {
    "collapsed": true
   },
   "outputs": [],
   "source": [
    "np.savetxt(\"relation_martix.csv\",relation_matrix,delimiter=',')"
   ]
  },
  {
   "cell_type": "markdown",
   "metadata": {},
   "source": [
    "# Predictions"
   ]
  },
  {
   "cell_type": "code",
   "execution_count": null,
   "metadata": {
    "collapsed": true
   },
   "outputs": [],
   "source": []
  },
  {
   "cell_type": "code",
   "execution_count": 10,
   "metadata": {
    "collapsed": true
   },
   "outputs": [],
   "source": [
    "def prediction(test,relation_matrix,passive):\n",
    "    idx,idx_passive = 0,{}\n",
    "    for i in passive[:,0]:\n",
    "        idx_passive[i] = idx\n",
    "        idx += 1\n",
    "    sim_users = zeros(relation_matrix.shape[1]-1)\n",
    "    idx,error =  1,zeros(test.shape[0])\n",
    "#     print error.shape\n",
    "    for pred_movie,rel_user in zip(test[1:,:],relation_matrix[1:,1:]): \n",
    "\n",
    "        sim_users = array([idx_passive[x] for x in rel_user])\n",
    "        test_nonzero = pred_movie.nonzero()[0][1:]\n",
    "        \n",
    "        temp = passive[sim_users[:,None],test_nonzero]\n",
    "        temp2 = np.sum(temp,axis=0)\n",
    "        temp3 = temp2.nonzero()[0]\n",
    "        temp4 = pred_movie[test_nonzero]\n",
    "        temp5 = temp[:,temp3]\n",
    "#         temp = temp.transpose()\n",
    "#         temp = temp[~np.all(temp == 0, axis=1)].transpose()\n",
    "        predicted_rating = np.average(temp5, axis=0, weights=temp5.astype(bool))\n",
    "#         print pred_movie[test_nonzero]\n",
    "#         print predicted_rating\n",
    "#         print temp.sum(0)\n",
    "#         print (temp != 0).sum(0)\n",
    "#         predicted_rating = temp.sum(0) / (temp != 0).sum(0)\n",
    "#         error[idx] = sqrt(((predicted_rating - temp4[temp3]) ** 2).mean(axis=0))\n",
    "        error[idx] = (np.absolute(predicted_rating - temp4[temp3])).mean(axis=0)\n",
    "        idx += 1\n",
    "#     return error[1:]\n",
    "#         temp1,temp2 = temp.sum(axis=0),temp.nonzero()[1].shape[0]\n",
    "#         predicted_rating = temp1/temp2\n",
    "#         print temp1\n",
    "#         print temp2\n",
    "#         print predicted_rating\n",
    "#         print pred_movie[test_nonzero]\n",
    "        \n",
    "#         print (test_nonzero - predicted_rating)\n",
    "#         print ((test_nonzero - predicted_rating)**2)/predicted_rating.shape[0]\n",
    "#         error[idx] = (((test_nonzero - predicted_rating)**2)/predicted_rating.shape[0]).mean()\n",
    "#         idx += 1\n",
    "#         if idx is 3:\n",
    "#             break\n",
    "    return error[1:]"
   ]
  },
  {
   "cell_type": "code",
   "execution_count": 12,
   "metadata": {},
   "outputs": [
    {
     "data": {
      "text/plain": [
       "0.87432955684993485"
      ]
     },
     "execution_count": 12,
     "metadata": {},
     "output_type": "execute_result"
    }
   ],
   "source": [
    "# d = prediction(test,relation_matrix,passive)\n",
    "err = prediction(test,relation_matrix,passive)\n",
    "err.mean()\n",
    "# print test[1,1:].nonzero()[0]\n",
    "# print \"---------------------------------------------------\"\n",
    "# print test[1,1:]"
   ]
  },
  {
   "cell_type": "code",
   "execution_count": 13,
   "metadata": {},
   "outputs": [
    {
     "data": {
      "text/plain": [
       "array([ 0.81701999,  0.82374847,  0.85048048,  1.13475275,  0.85382937,\n",
       "        1.37954879,  0.7724359 ,  0.77333333,  0.5275026 ,  0.79013862,\n",
       "        0.97134921,  0.9272403 ,  0.82939796,  0.51611111,  1.24097207,\n",
       "        0.59166667,  0.75096877,  1.10304579,  1.01212263,  0.77606872,\n",
       "        0.53139083,  0.60117521,  0.59578969,  0.73775215,  0.99738595,\n",
       "        0.82663626,  0.84374625,  0.7567487 ,  1.17373278,  0.9019721 ,\n",
       "        0.56862745,  0.84839492,  0.81882716,  0.75321675,  0.99989732,\n",
       "        1.0164966 ,  1.57400932,  0.75459296,  1.27418155,  0.51617133,\n",
       "        1.77380952,  1.15123457,  0.85477559,  0.38110119,  0.95748796,\n",
       "        0.85994018,  1.19848485,  0.79317918,  0.65511151,  0.55887446])"
      ]
     },
     "execution_count": 13,
     "metadata": {},
     "output_type": "execute_result"
    }
   ],
   "source": [
    "# test[1].nonzero()[0][1:]\n",
    "# print d.keys()\n",
    "# array([d[x] for x in relation_matrix[1,1:]])\n",
    "# print relation_matrix[1,1:]\n",
    "# print relation_matrix[2]\n",
    "# print 181 in d.keys(ruby123\n",
    "err\n",
    "# a = array([1.,2,0,4])\n",
    "# b = array([2,2,2,2])\n",
    "# a/b\n",
    "# a.astype(bool)\n",
    "# print 181 in passive[:,0]\n",
    "# print train[:,0]\n",
    "# print passive[:,0]"
   ]
  },
  {
   "cell_type": "code",
   "execution_count": 364,
   "metadata": {},
   "outputs": [
    {
     "name": "stdout",
     "output_type": "stream",
     "text": [
      "[[ 1.  2.  3.  0.]\n",
      " [ 8.  7.  9.  0.]\n",
      " [ 4.  5.  0.  0.]\n",
      " [ 4.  2.  2.  0.]]\n"
     ]
    },
    {
     "data": {
      "text/plain": [
       "array([[ 1.,  2.,  3.],\n",
       "       [ 8.,  7.,  9.],\n",
       "       [ 4.,  5.,  0.],\n",
       "       [ 4.,  2.,  2.]])"
      ]
     },
     "execution_count": 364,
     "metadata": {},
     "output_type": "execute_result"
    }
   ],
   "source": [
    "# a = array([[1.0,2,3,4],[8,7,9,0],[4,5,0,7],[4,2,2,4])\n",
    "a = array([[1.0,2,3,0],[8,7,9,0],[4,5,0,0],[4,2,2,0]])\n",
    "print a\n",
    "# b = a[array([0,1,3])[:,None],array([2,3])]\n",
    "# print b\n",
    "# c = b.sum(axis=0)\n",
    "# d = b.nonzero()[1]\n",
    "# print c\n",
    "# print d\n",
    "# a = array([0,1,2,3,4,5,6,7,8,9])\n",
    "# a.mean()\n",
    "# a = a.transpose()\n",
    "# b = ~np.all(a == 0, axis=1)\n",
    "# a = a[~np.all(a == 0, axis=1)].transpose()\n",
    "# print a[~np.all(a == 0, axis=0)]\n",
    "# a = a.transpose()\n",
    "a[:,b]"
   ]
  },
  {
   "cell_type": "code",
   "execution_count": 349,
   "metadata": {},
   "outputs": [
    {
     "data": {
      "text/plain": [
       "array([[ 1.,  2.,  3.],\n",
       "       [ 8.,  7.,  9.],\n",
       "       [ 4.,  5.,  0.],\n",
       "       [ 4.,  2.,  2.]])"
      ]
     },
     "execution_count": 349,
     "metadata": {},
     "output_type": "execute_result"
    }
   ],
   "source": [
    "# c/d\n",
    "a"
   ]
  },
  {
   "cell_type": "code",
   "execution_count": 155,
   "metadata": {},
   "outputs": [
    {
     "data": {
      "text/plain": [
       "array([[1, 2, 3, 4]])"
      ]
     },
     "execution_count": 155,
     "metadata": {},
     "output_type": "execute_result"
    }
   ],
   "source": [
    "a[0,None]"
   ]
  },
  {
   "cell_type": "code",
   "execution_count": 171,
   "metadata": {},
   "outputs": [
    {
     "data": {
      "text/plain": [
       "array([[  1.,   4.,   9.,  16.],\n",
       "       [ 64.,  49.,  81.,   0.],\n",
       "       [ 16.,  25.,   0.,  49.],\n",
       "       [ 16.,   4.,   4.,  16.]])"
      ]
     },
     "execution_count": 171,
     "metadata": {},
     "output_type": "execute_result"
    }
   ],
   "source": [
    "a**2"
   ]
  },
  {
   "cell_type": "code",
   "execution_count": 159,
   "metadata": {},
   "outputs": [
    {
     "name": "stdout",
     "output_type": "stream",
     "text": [
      "[  0.   1.   2.   3.   4.   5.   6.   7.   8.   9.  10.  11.  12.  13.  14.\n",
      "  15.  16.  17.  18.  19.  20.  21.  22.  23.  24.  25.  26.  27.  28.  29.\n",
      "  30.  31.  32.  33.  34.  35.  36.  37.  38.  39.  40.  41.  42.  43.  44.\n",
      "  45.  46.  47.  48.  49.  50.]\n",
      "[   0.  536.  310.  233.  255.  525.  863.  245.  845.  360.  499.  101.\n",
      "   82.  453.  304.  180.  888.  879.  109.  335.   20.  558.  594.  552.\n",
      "  497.  850.   76.  600.  338.  223.  232.  641.  221.  187.   64.  644.\n",
      "    4.  127.  456.  475.   84.  681.  289.  275.  941.  541.  898.  353.\n",
      "  795.  429.  652.]\n"
     ]
    }
   ],
   "source": [
    "print relation_matrix[:,0]\n",
    "print test[:,0]"
   ]
  },
  {
   "cell_type": "code",
   "execution_count": null,
   "metadata": {
    "collapsed": true
   },
   "outputs": [],
   "source": []
  }
 ],
 "metadata": {
  "kernelspec": {
   "display_name": "Python 3",
   "language": "python",
   "name": "python3"
  },
  "language_info": {
   "codemirror_mode": {
    "name": "ipython",
    "version": 3
   },
   "file_extension": ".py",
   "mimetype": "text/x-python",
   "name": "python",
   "nbconvert_exporter": "python",
   "pygments_lexer": "ipython3",
   "version": "3.6.2"
  }
 },
 "nbformat": 4,
 "nbformat_minor": 2
}
